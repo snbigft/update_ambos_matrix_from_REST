{
  "nbformat": 4,
  "nbformat_minor": 0,
  "metadata": {
    "colab": {
      "provenance": [],
      "authorship_tag": "ABX9TyPnJUNmTdFZcugMnnkGl7Kp",
      "include_colab_link": true
    },
    "kernelspec": {
      "name": "python3",
      "display_name": "Python 3"
    },
    "language_info": {
      "name": "python"
    }
  },
  "cells": [
    {
      "cell_type": "markdown",
      "metadata": {
        "id": "view-in-github",
        "colab_type": "text"
      },
      "source": [
        "<a href=\"https://colab.research.google.com/github/snbigft/update_ambos_matrix_from_REST/blob/main/update_ambos_matrix_from_REST.ipynb\" target=\"_parent\"><img src=\"https://colab.research.google.com/assets/colab-badge.svg\" alt=\"Open In Colab\"/></a>"
      ]
    },
    {
      "cell_type": "code",
      "source": [
        "!pip install fastapi uvicorn psycopg2-binary nest-asyncio pyngrok python-dotenv requests"
      ],
      "metadata": {
        "colab": {
          "base_uri": "https://localhost:8080/"
        },
        "id": "GjIbMSPqtE6U",
        "outputId": "6575304e-be33-4047-d696-635c63b16b2b"
      },
      "execution_count": 3,
      "outputs": [
        {
          "output_type": "stream",
          "name": "stdout",
          "text": [
            "Collecting fastapi\n",
            "  Downloading fastapi-0.115.11-py3-none-any.whl.metadata (27 kB)\n",
            "Collecting uvicorn\n",
            "  Downloading uvicorn-0.34.0-py3-none-any.whl.metadata (6.5 kB)\n",
            "Collecting psycopg2-binary\n",
            "  Downloading psycopg2_binary-2.9.10-cp311-cp311-manylinux_2_17_x86_64.manylinux2014_x86_64.whl.metadata (4.9 kB)\n",
            "Requirement already satisfied: nest-asyncio in /usr/local/lib/python3.11/dist-packages (1.6.0)\n",
            "Collecting pyngrok\n",
            "  Downloading pyngrok-7.2.3-py3-none-any.whl.metadata (8.7 kB)\n",
            "Collecting python-dotenv\n",
            "  Downloading python_dotenv-1.0.1-py3-none-any.whl.metadata (23 kB)\n",
            "Requirement already satisfied: requests in /usr/local/lib/python3.11/dist-packages (2.32.3)\n",
            "Collecting starlette<0.47.0,>=0.40.0 (from fastapi)\n",
            "  Downloading starlette-0.46.1-py3-none-any.whl.metadata (6.2 kB)\n",
            "Requirement already satisfied: pydantic!=1.8,!=1.8.1,!=2.0.0,!=2.0.1,!=2.1.0,<3.0.0,>=1.7.4 in /usr/local/lib/python3.11/dist-packages (from fastapi) (2.10.6)\n",
            "Requirement already satisfied: typing-extensions>=4.8.0 in /usr/local/lib/python3.11/dist-packages (from fastapi) (4.12.2)\n",
            "Requirement already satisfied: click>=7.0 in /usr/local/lib/python3.11/dist-packages (from uvicorn) (8.1.8)\n",
            "Requirement already satisfied: h11>=0.8 in /usr/local/lib/python3.11/dist-packages (from uvicorn) (0.14.0)\n",
            "Requirement already satisfied: PyYAML>=5.1 in /usr/local/lib/python3.11/dist-packages (from pyngrok) (6.0.2)\n",
            "Requirement already satisfied: charset-normalizer<4,>=2 in /usr/local/lib/python3.11/dist-packages (from requests) (3.4.1)\n",
            "Requirement already satisfied: idna<4,>=2.5 in /usr/local/lib/python3.11/dist-packages (from requests) (3.10)\n",
            "Requirement already satisfied: urllib3<3,>=1.21.1 in /usr/local/lib/python3.11/dist-packages (from requests) (2.3.0)\n",
            "Requirement already satisfied: certifi>=2017.4.17 in /usr/local/lib/python3.11/dist-packages (from requests) (2025.1.31)\n",
            "Requirement already satisfied: annotated-types>=0.6.0 in /usr/local/lib/python3.11/dist-packages (from pydantic!=1.8,!=1.8.1,!=2.0.0,!=2.0.1,!=2.1.0,<3.0.0,>=1.7.4->fastapi) (0.7.0)\n",
            "Requirement already satisfied: pydantic-core==2.27.2 in /usr/local/lib/python3.11/dist-packages (from pydantic!=1.8,!=1.8.1,!=2.0.0,!=2.0.1,!=2.1.0,<3.0.0,>=1.7.4->fastapi) (2.27.2)\n",
            "Requirement already satisfied: anyio<5,>=3.6.2 in /usr/local/lib/python3.11/dist-packages (from starlette<0.47.0,>=0.40.0->fastapi) (3.7.1)\n",
            "Requirement already satisfied: sniffio>=1.1 in /usr/local/lib/python3.11/dist-packages (from anyio<5,>=3.6.2->starlette<0.47.0,>=0.40.0->fastapi) (1.3.1)\n",
            "Downloading fastapi-0.115.11-py3-none-any.whl (94 kB)\n",
            "\u001b[2K   \u001b[90m━━━━━━━━━━━━━━━━━━━━━━━━━━━━━━━━━━━━━━━━\u001b[0m \u001b[32m94.9/94.9 kB\u001b[0m \u001b[31m5.2 MB/s\u001b[0m eta \u001b[36m0:00:00\u001b[0m\n",
            "\u001b[?25hDownloading uvicorn-0.34.0-py3-none-any.whl (62 kB)\n",
            "\u001b[2K   \u001b[90m━━━━━━━━━━━━━━━━━━━━━━━━━━━━━━━━━━━━━━━━\u001b[0m \u001b[32m62.3/62.3 kB\u001b[0m \u001b[31m3.9 MB/s\u001b[0m eta \u001b[36m0:00:00\u001b[0m\n",
            "\u001b[?25hDownloading psycopg2_binary-2.9.10-cp311-cp311-manylinux_2_17_x86_64.manylinux2014_x86_64.whl (3.0 MB)\n",
            "\u001b[2K   \u001b[90m━━━━━━━━━━━━━━━━━━━━━━━━━━━━━━━━━━━━━━━━\u001b[0m \u001b[32m3.0/3.0 MB\u001b[0m \u001b[31m31.3 MB/s\u001b[0m eta \u001b[36m0:00:00\u001b[0m\n",
            "\u001b[?25hDownloading pyngrok-7.2.3-py3-none-any.whl (23 kB)\n",
            "Downloading python_dotenv-1.0.1-py3-none-any.whl (19 kB)\n",
            "Downloading starlette-0.46.1-py3-none-any.whl (71 kB)\n",
            "\u001b[2K   \u001b[90m━━━━━━━━━━━━━━━━━━━━━━━━━━━━━━━━━━━━━━━━\u001b[0m \u001b[32m72.0/72.0 kB\u001b[0m \u001b[31m5.2 MB/s\u001b[0m eta \u001b[36m0:00:00\u001b[0m\n",
            "\u001b[?25hInstalling collected packages: uvicorn, python-dotenv, pyngrok, psycopg2-binary, starlette, fastapi\n",
            "Successfully installed fastapi-0.115.11 psycopg2-binary-2.9.10 pyngrok-7.2.3 python-dotenv-1.0.1 starlette-0.46.1 uvicorn-0.34.0\n"
          ]
        }
      ]
    },
    {
      "cell_type": "code",
      "execution_count": 4,
      "metadata": {
        "colab": {
          "base_uri": "https://localhost:8080/"
        },
        "id": "WqhWdvpAbPP9",
        "outputId": "cbb93acc-a185-4f64-dcee-921ce24fc0f6"
      },
      "outputs": [
        {
          "output_type": "stream",
          "name": "stdout",
          "text": [
            "Introduce la fecha en formato YYYYMMDD: 20250311\n",
            "Commit final realizado con 110 actualizaciones restantes.\n",
            "Proceso completado correctamente.\n"
          ]
        }
      ],
      "source": [
        "import requests\n",
        "import psycopg2\n",
        "from psycopg2 import sql\n",
        "\n",
        "# Configuración de la base de datos\n",
        "DB_HOST = \"ep-snowy-dawn-a8omlpke-pooler.eastus2.azure.neon.tech\"\n",
        "DB_NAME = \"neondb\"\n",
        "DB_USER = \"neondb_owner\"\n",
        "DB_PASSWORD = \"npg_BcpnId62FYhS\"\n",
        "\n",
        "# URL de la API\n",
        "LOTTO_API_URL = \"https://www.lotto-italia.it/gdl/estrazioni-e-vincite/estrazioni-del-lotto.json\"\n",
        "\n",
        "# Función para conectar a la base de datos\n",
        "def get_db_connection():\n",
        "    return psycopg2.connect(\n",
        "        host=DB_HOST,\n",
        "        dbname=DB_NAME,\n",
        "        user=DB_USER,\n",
        "        password=DB_PASSWORD,\n",
        "        sslmode=\"require\"\n",
        "    )\n",
        "\n",
        "# Pedir la fecha como input\n",
        "fecha = input(\"Introduce la fecha en formato YYYYMMDD: \")\n",
        "\n",
        "# Obtener datos de la API\n",
        "response = requests.post(LOTTO_API_URL, json={\"data\": fecha})\n",
        "data = response.json()\n",
        "\n",
        "if data.get(\"esito\") != \"OK\":\n",
        "    print(\"Error en la respuesta de la API.\")\n",
        "    exit()\n",
        "\n",
        "# Procesar los datos\n",
        "conn = get_db_connection()\n",
        "cursor = conn.cursor()\n",
        "commit_chunk = 10000\n",
        "update_counter = 0\n",
        "\n",
        "for estrazione in data.get(\"estrazione\", []):\n",
        "    ruota = estrazione[\"ruotaExtended\"].capitalize()\n",
        "    numeri = estrazione[\"numeri\"]\n",
        "\n",
        "    for i in range(len(numeri) - 1):\n",
        "        for j in range(i + 1, len(numeri)):\n",
        "            n1, n2 = numeri[i], numeri[j]\n",
        "            update_query = sql.SQL(\"\"\"\n",
        "                UPDATE ambos_matrix\n",
        "                SET ocurrencias = ocurrencias + 1\n",
        "                WHERE ruota = %s AND numero_1 = %s AND numero_2 = %s\n",
        "            \"\"\")\n",
        "            cursor.execute(update_query, (ruota, n1, n2))\n",
        "            update_counter += 1\n",
        "\n",
        "    if update_counter >= commit_chunk:\n",
        "        conn.commit()\n",
        "        print(f\"Commit realizado después de {update_counter} actualizaciones.\")\n",
        "        update_counter = 0\n",
        "\n",
        "if update_counter > 0:\n",
        "    conn.commit()\n",
        "    print(f\"Commit final realizado con {update_counter} actualizaciones restantes.\")\n",
        "\n",
        "cursor.close()\n",
        "conn.close()\n",
        "print(\"Proceso completado correctamente.\")\n",
        "\n"
      ]
    }
  ]
}